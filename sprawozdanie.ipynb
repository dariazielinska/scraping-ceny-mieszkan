{
 "cells": [
  {
   "cell_type": "markdown",
   "metadata": {},
   "source": [
    "# Projekt analizy cen mieszkań\n",
    "\n",
    "W tym projekcie będę analizować ceny mieszkań na podstawie różnych cech, takich jak powierzchnia, liczba pokoi, piętro oraz lokalizacja. Celem jest stworzenie modelu, który pozwoli przewidzieć cenę mieszkania na podstawie tych cech. "
   ]
  },
  {
   "cell_type": "code",
   "execution_count": 1,
   "metadata": {},
   "outputs": [],
   "source": [
    "# Importowanie niezbędnych bibliotek\n",
    "import pandas as pd\n",
    "import numpy as np\n",
    "import matplotlib.pyplot as plt\n",
    "from sklearn.model_selection import train_test_split\n",
    "from sklearn.ensemble import RandomForestRegressor\n",
    "from sklearn.metrics import mean_absolute_error, mean_squared_error, r2_score\n",
    "from sklearn.preprocessing import MinMaxScaler\n",
    "import seaborn as sns\n"
   ]
  },
  {
   "cell_type": "code",
   "execution_count": 2,
   "metadata": {},
   "outputs": [],
   "source": [
    "# Wczytanie danych\n",
    "df = pd.read_csv('mieszkania_otodom_cleaned.csv', delimiter=';')\n",
    "df.head()"
   ]
  },
  {
   "cell_type": "code",
   "execution_count": 3,
   "metadata": {},
   "outputs": [],
   "source": [
    "# Przygotowanie zmiennych objaśniających (X) i zmiennej docelowej (y)\n",
    "X = df[['Price per m2', 'Area', 'Rooms', 'Floor', 'City_or_District', 'Province']]\n",
    "\n",
    "# Kodowanie zmiennych kategorycznych (miasto, województwo)\n",
    "X = pd.get_dummies(X, drop_first=True)\n",
    "\n",
    "y = df['Price']  # Zmienna docelowa (cena)\n",
    "\n",
    "# Podział na zbiór treningowy i testowy\n",
    "X_train, X_test, y_train, y_test = train_test_split(X, y, test_size=0.2, random_state=42)\n"
   ]
  },
  {
   "cell_type": "code",
   "execution_count": 4,
   "metadata": {},
   "outputs": [],
   "source": [
    "# Tworzenie model regresyjny Random Forest\n",
    "model = RandomForestRegressor(n_estimators=100, random_state=42)\n",
    "\n",
    "# Trenowanie modelu\n",
    "model.fit(X_train, y_train)\n"
   ]
  },
  {
   "cell_type": "code",
   "execution_count": 5,
   "metadata": {},
   "outputs": [],
   "source": [
    "# Predykcja na zbiorze testowym\n",
    "y_pred = model.predict(X_test)\n",
    "\n",
    "# Obliczanie metryki błędu\n",
    "mae = mean_absolute_error(y_test, y_pred)\n",
    "mse = mean_squared_error(y_test, y_pred)\n",
    "rmse = np.sqrt(mse)  # Obliczanie pierwiastka z MSE ręcznie\n",
    "r2 = r2_score(y_test, y_pred)\n",
    "\n",
    "# Wyświetlanie wyników\n",
    "print(f\"Mean Absolute Error (MAE): {mae:.2f}\")\n",
    "print(f\"Mean Squared Error (MSE): {mse:.2f}\")\n",
    "print(f\"Root Mean Squared Error (RMSE): {rmse:.2f}\")\n",
    "print(f\"R-squared: {r2:.2f}\")"
   ]
  },
  {
   "cell_type": "code",
   "execution_count": 6,
   "metadata": {},
   "outputs": [],
   "source": [
    "# Wizualizacja porównania rzeczywistej ceny i prognozowanej ceny\n",
    "plt.figure(figsize=(10, 6))\n",
    "plt.scatter(y_test, y_pred, alpha=0.7)\n",
    "plt.plot([min(y_test), max(y_test)], [min(y_test), max(y_test)], color='red', linestyle='--')\n",
    "plt.xlabel('Rzeczywista cena')\n",
    "plt.ylabel('Prognozowana cena')\n",
    "plt.title('Porównanie rzeczywistej ceny z prognozowaną ceną')\n",
    "plt.show()"
   ]
  },
  {
   "cell_type": "markdown",
   "metadata": {},
   "source": [
    "### Podsumowanie\n",
    "\n",
    "Po przeprowadzeniu analizy modelu regresyjnego Random Forest można zauważyć, że model radzi sobie bardzo dobrze w przewidywaniu cen mieszkań. Otrzymane metryki błędu (MAE, MSE, RMSE) wskazują na dużą dokładność prognoz, a współczynnik determinacji (R²) wynosi 0.99, co sugeruje, że model wyjaśnia praktycznie całą zmienność cen mieszkań w danych.\n",
    "\n",
    "Wizualizacja pokazuje, że przewidywane ceny są bardzo bliskie rzeczywistym wartościom, co jest pozytywnym wynikiem i świadczy o skuteczności zastosowanego modelu."
   ]
  }
 ],
 "metadata": {
  "kernelspec": {
   "display_name": "Python 3",
   "language": "python",
   "name": "python3"
  },
  "language_info": {
   "codemirror_mode": {
    "name": "ipython",
    "version": 3
   },
   "file_extension": ".py",
   "mimetype": "text/x-python",
   "name": "python",
   "nbconvert_exporter": "python",
   "version": "3.8.5"
  }
 },
 "nbformat": 4,
 "nbformat_minor": 5
}
